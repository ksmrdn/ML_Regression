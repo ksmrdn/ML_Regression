{
 "nbformat": 4,
 "nbformat_minor": 2,
 "metadata": {
  "language_info": {
   "name": "python",
   "codemirror_mode": {
    "name": "ipython",
    "version": 3
   },
   "version": "3.7.4-final"
  },
  "orig_nbformat": 2,
  "file_extension": ".py",
  "mimetype": "text/x-python",
  "name": "python",
  "npconvert_exporter": "python",
  "pygments_lexer": "ipython3",
  "version": 3,
  "kernelspec": {
   "name": "python37464bitbaseconda9ac5713aaf5d4281bcc09ff0bf5e12f1",
   "display_name": "Python 3.7.4 64-bit ('base': conda)"
  }
 },
 "cells": [
  {
   "cell_type": "code",
   "execution_count": 1,
   "metadata": {},
   "outputs": [],
   "source": [
    "import pandas as pd\n",
    "import numpy as np"
   ]
  },
  {
   "cell_type": "code",
   "execution_count": 2,
   "metadata": {},
   "outputs": [
    {
     "data": {
      "text/html": "<div>\n<style scoped>\n    .dataframe tbody tr th:only-of-type {\n        vertical-align: middle;\n    }\n\n    .dataframe tbody tr th {\n        vertical-align: top;\n    }\n\n    .dataframe thead th {\n        text-align: right;\n    }\n</style>\n<table border=\"1\" class=\"dataframe\">\n  <thead>\n    <tr style=\"text-align: right;\">\n      <th></th>\n      <th>luas</th>\n      <th>harga</th>\n      <th>kota</th>\n    </tr>\n  </thead>\n  <tbody>\n    <tr>\n      <th>0</th>\n      <td>1000</td>\n      <td>1000</td>\n      <td>Jakarta</td>\n    </tr>\n    <tr>\n      <th>1</th>\n      <td>2000</td>\n      <td>2000</td>\n      <td>Jakarta</td>\n    </tr>\n    <tr>\n      <th>2</th>\n      <td>3000</td>\n      <td>3000</td>\n      <td>Jakarta</td>\n    </tr>\n    <tr>\n      <th>3</th>\n      <td>4000</td>\n      <td>4000</td>\n      <td>Jakarta</td>\n    </tr>\n    <tr>\n      <th>4</th>\n      <td>5000</td>\n      <td>5000</td>\n      <td>Jakarta</td>\n    </tr>\n    <tr>\n      <th>5</th>\n      <td>1000</td>\n      <td>500</td>\n      <td>Bogor</td>\n    </tr>\n    <tr>\n      <th>6</th>\n      <td>2000</td>\n      <td>1000</td>\n      <td>Bogor</td>\n    </tr>\n    <tr>\n      <th>7</th>\n      <td>3000</td>\n      <td>1500</td>\n      <td>Bogor</td>\n    </tr>\n    <tr>\n      <th>8</th>\n      <td>4000</td>\n      <td>2000</td>\n      <td>Bogor</td>\n    </tr>\n    <tr>\n      <th>9</th>\n      <td>5000</td>\n      <td>2500</td>\n      <td>Bogor</td>\n    </tr>\n    <tr>\n      <th>10</th>\n      <td>1000</td>\n      <td>2000</td>\n      <td>Tangsel</td>\n    </tr>\n    <tr>\n      <th>11</th>\n      <td>2000</td>\n      <td>4000</td>\n      <td>Tangsel</td>\n    </tr>\n    <tr>\n      <th>12</th>\n      <td>3000</td>\n      <td>6000</td>\n      <td>Tangsel</td>\n    </tr>\n    <tr>\n      <th>13</th>\n      <td>4000</td>\n      <td>8000</td>\n      <td>Tangsel</td>\n    </tr>\n    <tr>\n      <th>14</th>\n      <td>5000</td>\n      <td>10000</td>\n      <td>Tangsel</td>\n    </tr>\n  </tbody>\n</table>\n</div>",
      "text/plain": "    luas  harga     kota\n0   1000   1000  Jakarta\n1   2000   2000  Jakarta\n2   3000   3000  Jakarta\n3   4000   4000  Jakarta\n4   5000   5000  Jakarta\n5   1000    500    Bogor\n6   2000   1000    Bogor\n7   3000   1500    Bogor\n8   4000   2000    Bogor\n9   5000   2500    Bogor\n10  1000   2000  Tangsel\n11  2000   4000  Tangsel\n12  3000   6000  Tangsel\n13  4000   8000  Tangsel\n14  5000  10000  Tangsel"
     },
     "execution_count": 2,
     "metadata": {},
     "output_type": "execute_result"
    }
   ],
   "source": [
    "data = [\n",
    "    {'luas': 1000, 'harga': 1000, 'kota': 'Jakarta'},\n",
    "    {'luas': 2000, 'harga': 2000, 'kota': 'Jakarta'},\n",
    "    {'luas': 3000, 'harga': 3000, 'kota': 'Jakarta'},\n",
    "    {'luas': 4000, 'harga': 4000, 'kota': 'Jakarta'},\n",
    "    {'luas': 5000, 'harga': 5000, 'kota': 'Jakarta'},\n",
    "    {'luas': 1000, 'harga': 500, 'kota': 'Bogor'},\n",
    "    {'luas': 2000, 'harga': 1000, 'kota': 'Bogor'},\n",
    "    {'luas': 3000, 'harga': 1500, 'kota': 'Bogor'},\n",
    "    {'luas': 4000, 'harga': 2000, 'kota': 'Bogor'},\n",
    "    {'luas': 5000, 'harga': 2500, 'kota': 'Bogor'},\n",
    "    {'luas': 1000, 'harga': 2000, 'kota': 'Tangsel'},\n",
    "    {'luas': 2000, 'harga': 4000, 'kota': 'Tangsel'},\n",
    "    {'luas': 3000, 'harga': 6000, 'kota': 'Tangsel'},\n",
    "    {'luas': 4000, 'harga': 8000, 'kota': 'Tangsel'},\n",
    "    {'luas': 5000, 'harga': 10000, 'kota': 'Tangsel'}\n",
    "]\n",
    "df = pd.DataFrame(data)\n",
    "df"
   ]
  },
  {
   "cell_type": "markdown",
   "execution_count": null,
   "metadata": {},
   "outputs": [],
   "source": [
    "### 1. Dummy Var Pandas"
   ]
  },
  {
   "cell_type": "code",
   "execution_count": 3,
   "metadata": {},
   "outputs": [
    {
     "data": {
      "text/html": "<div>\n<style scoped>\n    .dataframe tbody tr th:only-of-type {\n        vertical-align: middle;\n    }\n\n    .dataframe tbody tr th {\n        vertical-align: top;\n    }\n\n    .dataframe thead th {\n        text-align: right;\n    }\n</style>\n<table border=\"1\" class=\"dataframe\">\n  <thead>\n    <tr style=\"text-align: right;\">\n      <th></th>\n      <th>Bogor</th>\n      <th>Jakarta</th>\n      <th>Tangsel</th>\n    </tr>\n  </thead>\n  <tbody>\n    <tr>\n      <th>0</th>\n      <td>0</td>\n      <td>1</td>\n      <td>0</td>\n    </tr>\n    <tr>\n      <th>1</th>\n      <td>0</td>\n      <td>1</td>\n      <td>0</td>\n    </tr>\n    <tr>\n      <th>2</th>\n      <td>0</td>\n      <td>1</td>\n      <td>0</td>\n    </tr>\n    <tr>\n      <th>3</th>\n      <td>0</td>\n      <td>1</td>\n      <td>0</td>\n    </tr>\n    <tr>\n      <th>4</th>\n      <td>0</td>\n      <td>1</td>\n      <td>0</td>\n    </tr>\n    <tr>\n      <th>5</th>\n      <td>1</td>\n      <td>0</td>\n      <td>0</td>\n    </tr>\n    <tr>\n      <th>6</th>\n      <td>1</td>\n      <td>0</td>\n      <td>0</td>\n    </tr>\n    <tr>\n      <th>7</th>\n      <td>1</td>\n      <td>0</td>\n      <td>0</td>\n    </tr>\n    <tr>\n      <th>8</th>\n      <td>1</td>\n      <td>0</td>\n      <td>0</td>\n    </tr>\n    <tr>\n      <th>9</th>\n      <td>1</td>\n      <td>0</td>\n      <td>0</td>\n    </tr>\n    <tr>\n      <th>10</th>\n      <td>0</td>\n      <td>0</td>\n      <td>1</td>\n    </tr>\n    <tr>\n      <th>11</th>\n      <td>0</td>\n      <td>0</td>\n      <td>1</td>\n    </tr>\n    <tr>\n      <th>12</th>\n      <td>0</td>\n      <td>0</td>\n      <td>1</td>\n    </tr>\n    <tr>\n      <th>13</th>\n      <td>0</td>\n      <td>0</td>\n      <td>1</td>\n    </tr>\n    <tr>\n      <th>14</th>\n      <td>0</td>\n      <td>0</td>\n      <td>1</td>\n    </tr>\n  </tbody>\n</table>\n</div>",
      "text/plain": "    Bogor  Jakarta  Tangsel\n0       0        1        0\n1       0        1        0\n2       0        1        0\n3       0        1        0\n4       0        1        0\n5       1        0        0\n6       1        0        0\n7       1        0        0\n8       1        0        0\n9       1        0        0\n10      0        0        1\n11      0        0        1\n12      0        0        1\n13      0        0        1\n14      0        0        1"
     },
     "execution_count": 3,
     "metadata": {},
     "output_type": "execute_result"
    }
   ],
   "source": [
    "dfDummy = pd.get_dummies(df['kota'])\n",
    "dfDummy"
   ]
  },
  {
   "cell_type": "code",
   "execution_count": 4,
   "metadata": {},
   "outputs": [
    {
     "data": {
      "text/html": "<div>\n<style scoped>\n    .dataframe tbody tr th:only-of-type {\n        vertical-align: middle;\n    }\n\n    .dataframe tbody tr th {\n        vertical-align: top;\n    }\n\n    .dataframe thead th {\n        text-align: right;\n    }\n</style>\n<table border=\"1\" class=\"dataframe\">\n  <thead>\n    <tr style=\"text-align: right;\">\n      <th></th>\n      <th>luas</th>\n      <th>harga</th>\n      <th>Bogor</th>\n      <th>Jakarta</th>\n      <th>Tangsel</th>\n    </tr>\n  </thead>\n  <tbody>\n    <tr>\n      <th>0</th>\n      <td>1000</td>\n      <td>1000</td>\n      <td>0</td>\n      <td>1</td>\n      <td>0</td>\n    </tr>\n    <tr>\n      <th>1</th>\n      <td>2000</td>\n      <td>2000</td>\n      <td>0</td>\n      <td>1</td>\n      <td>0</td>\n    </tr>\n    <tr>\n      <th>2</th>\n      <td>3000</td>\n      <td>3000</td>\n      <td>0</td>\n      <td>1</td>\n      <td>0</td>\n    </tr>\n    <tr>\n      <th>3</th>\n      <td>4000</td>\n      <td>4000</td>\n      <td>0</td>\n      <td>1</td>\n      <td>0</td>\n    </tr>\n    <tr>\n      <th>4</th>\n      <td>5000</td>\n      <td>5000</td>\n      <td>0</td>\n      <td>1</td>\n      <td>0</td>\n    </tr>\n    <tr>\n      <th>5</th>\n      <td>1000</td>\n      <td>500</td>\n      <td>1</td>\n      <td>0</td>\n      <td>0</td>\n    </tr>\n    <tr>\n      <th>6</th>\n      <td>2000</td>\n      <td>1000</td>\n      <td>1</td>\n      <td>0</td>\n      <td>0</td>\n    </tr>\n    <tr>\n      <th>7</th>\n      <td>3000</td>\n      <td>1500</td>\n      <td>1</td>\n      <td>0</td>\n      <td>0</td>\n    </tr>\n    <tr>\n      <th>8</th>\n      <td>4000</td>\n      <td>2000</td>\n      <td>1</td>\n      <td>0</td>\n      <td>0</td>\n    </tr>\n    <tr>\n      <th>9</th>\n      <td>5000</td>\n      <td>2500</td>\n      <td>1</td>\n      <td>0</td>\n      <td>0</td>\n    </tr>\n    <tr>\n      <th>10</th>\n      <td>1000</td>\n      <td>2000</td>\n      <td>0</td>\n      <td>0</td>\n      <td>1</td>\n    </tr>\n    <tr>\n      <th>11</th>\n      <td>2000</td>\n      <td>4000</td>\n      <td>0</td>\n      <td>0</td>\n      <td>1</td>\n    </tr>\n    <tr>\n      <th>12</th>\n      <td>3000</td>\n      <td>6000</td>\n      <td>0</td>\n      <td>0</td>\n      <td>1</td>\n    </tr>\n    <tr>\n      <th>13</th>\n      <td>4000</td>\n      <td>8000</td>\n      <td>0</td>\n      <td>0</td>\n      <td>1</td>\n    </tr>\n    <tr>\n      <th>14</th>\n      <td>5000</td>\n      <td>10000</td>\n      <td>0</td>\n      <td>0</td>\n      <td>1</td>\n    </tr>\n  </tbody>\n</table>\n</div>",
      "text/plain": "    luas  harga  Bogor  Jakarta  Tangsel\n0   1000   1000      0        1        0\n1   2000   2000      0        1        0\n2   3000   3000      0        1        0\n3   4000   4000      0        1        0\n4   5000   5000      0        1        0\n5   1000    500      1        0        0\n6   2000   1000      1        0        0\n7   3000   1500      1        0        0\n8   4000   2000      1        0        0\n9   5000   2500      1        0        0\n10  1000   2000      0        0        1\n11  2000   4000      0        0        1\n12  3000   6000      0        0        1\n13  4000   8000      0        0        1\n14  5000  10000      0        0        1"
     },
     "execution_count": 4,
     "metadata": {},
     "output_type": "execute_result"
    }
   ],
   "source": [
    "dfNew = pd.concat([df, dfDummy], axis=1)\n",
    "dfNew = dfNew.drop(['kota'], axis=1)\n",
    "dfNew"
   ]
  },
  {
   "cell_type": "code",
   "execution_count": 5,
   "metadata": {},
   "outputs": [
    {
     "data": {
      "text/html": "<div>\n<style scoped>\n    .dataframe tbody tr th:only-of-type {\n        vertical-align: middle;\n    }\n\n    .dataframe tbody tr th {\n        vertical-align: top;\n    }\n\n    .dataframe thead th {\n        text-align: right;\n    }\n</style>\n<table border=\"1\" class=\"dataframe\">\n  <thead>\n    <tr style=\"text-align: right;\">\n      <th></th>\n      <th>luas</th>\n      <th>harga</th>\n      <th>Bogor</th>\n      <th>Jakarta</th>\n      <th>Tangsel</th>\n    </tr>\n  </thead>\n  <tbody>\n    <tr>\n      <th>luas</th>\n      <td>1.000000e+00</td>\n      <td>0.623610</td>\n      <td>1.136868e-17</td>\n      <td>1.136868e-17</td>\n      <td>0.000000</td>\n    </tr>\n    <tr>\n      <th>harga</th>\n      <td>6.236096e-01</td>\n      <td>1.000000</td>\n      <td>-5.345225e-01</td>\n      <td>-1.336306e-01</td>\n      <td>0.668153</td>\n    </tr>\n    <tr>\n      <th>Bogor</th>\n      <td>1.136868e-17</td>\n      <td>-0.534522</td>\n      <td>1.000000e+00</td>\n      <td>-5.000000e-01</td>\n      <td>-0.500000</td>\n    </tr>\n    <tr>\n      <th>Jakarta</th>\n      <td>1.136868e-17</td>\n      <td>-0.133631</td>\n      <td>-5.000000e-01</td>\n      <td>1.000000e+00</td>\n      <td>-0.500000</td>\n    </tr>\n    <tr>\n      <th>Tangsel</th>\n      <td>0.000000e+00</td>\n      <td>0.668153</td>\n      <td>-5.000000e-01</td>\n      <td>-5.000000e-01</td>\n      <td>1.000000</td>\n    </tr>\n  </tbody>\n</table>\n</div>",
      "text/plain": "                 luas     harga         Bogor       Jakarta   Tangsel\nluas     1.000000e+00  0.623610  1.136868e-17  1.136868e-17  0.000000\nharga    6.236096e-01  1.000000 -5.345225e-01 -1.336306e-01  0.668153\nBogor    1.136868e-17 -0.534522  1.000000e+00 -5.000000e-01 -0.500000\nJakarta  1.136868e-17 -0.133631 -5.000000e-01  1.000000e+00 -0.500000\nTangsel  0.000000e+00  0.668153 -5.000000e-01 -5.000000e-01  1.000000"
     },
     "execution_count": 5,
     "metadata": {},
     "output_type": "execute_result"
    }
   ],
   "source": [
    "dfNew.corr()"
   ]
  },
  {
   "cell_type": "code",
   "execution_count": 6,
   "metadata": {},
   "outputs": [
    {
     "data": {
      "text/plain": "LinearRegression(copy_X=True, fit_intercept=True, n_jobs=None, normalize=False)"
     },
     "execution_count": 6,
     "metadata": {},
     "output_type": "execute_result"
    }
   ],
   "source": [
    "from sklearn.linear_model import LinearRegression\n",
    "model = LinearRegression()\n",
    "model.fit(dfNew[['luas','Bogor','Tangsel']], dfNew['harga'])"
   ]
  },
  {
   "cell_type": "code",
   "execution_count": 7,
   "metadata": {},
   "outputs": [],
   "source": [
    "dfBP = model.predict(dfNew[['luas','Bogor','Tangsel']])"
   ]
  },
  {
   "cell_type": "code",
   "execution_count": 8,
   "metadata": {},
   "outputs": [
    {
     "data": {
      "text/html": "<div>\n<style scoped>\n    .dataframe tbody tr th:only-of-type {\n        vertical-align: middle;\n    }\n\n    .dataframe tbody tr th {\n        vertical-align: top;\n    }\n\n    .dataframe thead th {\n        text-align: right;\n    }\n</style>\n<table border=\"1\" class=\"dataframe\">\n  <thead>\n    <tr style=\"text-align: right;\">\n      <th></th>\n      <th>luas</th>\n      <th>harga</th>\n      <th>Bogor</th>\n      <th>Jakarta</th>\n      <th>Tangsel</th>\n      <th>Best Price</th>\n    </tr>\n  </thead>\n  <tbody>\n    <tr>\n      <th>0</th>\n      <td>1000</td>\n      <td>1000</td>\n      <td>0</td>\n      <td>1</td>\n      <td>0</td>\n      <td>666.666667</td>\n    </tr>\n    <tr>\n      <th>1</th>\n      <td>2000</td>\n      <td>2000</td>\n      <td>0</td>\n      <td>1</td>\n      <td>0</td>\n      <td>1833.333333</td>\n    </tr>\n    <tr>\n      <th>2</th>\n      <td>3000</td>\n      <td>3000</td>\n      <td>0</td>\n      <td>1</td>\n      <td>0</td>\n      <td>3000.000000</td>\n    </tr>\n    <tr>\n      <th>3</th>\n      <td>4000</td>\n      <td>4000</td>\n      <td>0</td>\n      <td>1</td>\n      <td>0</td>\n      <td>4166.666667</td>\n    </tr>\n    <tr>\n      <th>4</th>\n      <td>5000</td>\n      <td>5000</td>\n      <td>0</td>\n      <td>1</td>\n      <td>0</td>\n      <td>5333.333333</td>\n    </tr>\n    <tr>\n      <th>5</th>\n      <td>1000</td>\n      <td>500</td>\n      <td>1</td>\n      <td>0</td>\n      <td>0</td>\n      <td>-833.333333</td>\n    </tr>\n    <tr>\n      <th>6</th>\n      <td>2000</td>\n      <td>1000</td>\n      <td>1</td>\n      <td>0</td>\n      <td>0</td>\n      <td>333.333333</td>\n    </tr>\n    <tr>\n      <th>7</th>\n      <td>3000</td>\n      <td>1500</td>\n      <td>1</td>\n      <td>0</td>\n      <td>0</td>\n      <td>1500.000000</td>\n    </tr>\n    <tr>\n      <th>8</th>\n      <td>4000</td>\n      <td>2000</td>\n      <td>1</td>\n      <td>0</td>\n      <td>0</td>\n      <td>2666.666667</td>\n    </tr>\n    <tr>\n      <th>9</th>\n      <td>5000</td>\n      <td>2500</td>\n      <td>1</td>\n      <td>0</td>\n      <td>0</td>\n      <td>3833.333333</td>\n    </tr>\n    <tr>\n      <th>10</th>\n      <td>1000</td>\n      <td>2000</td>\n      <td>0</td>\n      <td>0</td>\n      <td>1</td>\n      <td>3666.666667</td>\n    </tr>\n    <tr>\n      <th>11</th>\n      <td>2000</td>\n      <td>4000</td>\n      <td>0</td>\n      <td>0</td>\n      <td>1</td>\n      <td>4833.333333</td>\n    </tr>\n    <tr>\n      <th>12</th>\n      <td>3000</td>\n      <td>6000</td>\n      <td>0</td>\n      <td>0</td>\n      <td>1</td>\n      <td>6000.000000</td>\n    </tr>\n    <tr>\n      <th>13</th>\n      <td>4000</td>\n      <td>8000</td>\n      <td>0</td>\n      <td>0</td>\n      <td>1</td>\n      <td>7166.666667</td>\n    </tr>\n    <tr>\n      <th>14</th>\n      <td>5000</td>\n      <td>10000</td>\n      <td>0</td>\n      <td>0</td>\n      <td>1</td>\n      <td>8333.333333</td>\n    </tr>\n  </tbody>\n</table>\n</div>",
      "text/plain": "    luas  harga  Bogor  Jakarta  Tangsel   Best Price\n0   1000   1000      0        1        0   666.666667\n1   2000   2000      0        1        0  1833.333333\n2   3000   3000      0        1        0  3000.000000\n3   4000   4000      0        1        0  4166.666667\n4   5000   5000      0        1        0  5333.333333\n5   1000    500      1        0        0  -833.333333\n6   2000   1000      1        0        0   333.333333\n7   3000   1500      1        0        0  1500.000000\n8   4000   2000      1        0        0  2666.666667\n9   5000   2500      1        0        0  3833.333333\n10  1000   2000      0        0        1  3666.666667\n11  2000   4000      0        0        1  4833.333333\n12  3000   6000      0        0        1  6000.000000\n13  4000   8000      0        0        1  7166.666667\n14  5000  10000      0        0        1  8333.333333"
     },
     "execution_count": 8,
     "metadata": {},
     "output_type": "execute_result"
    }
   ],
   "source": [
    "dfNew['Best Price'] = dfBP\n",
    "dfNew"
   ]
  },
  {
   "cell_type": "markdown",
   "execution_count": 10,
   "metadata": {},
   "outputs": [],
   "source": [
    "###  2. Label Encoder Sklearn"
   ]
  },
  {
   "cell_type": "code",
   "execution_count": 9,
   "metadata": {},
   "outputs": [
    {
     "data": {
      "text/html": "<div>\n<style scoped>\n    .dataframe tbody tr th:only-of-type {\n        vertical-align: middle;\n    }\n\n    .dataframe tbody tr th {\n        vertical-align: top;\n    }\n\n    .dataframe thead th {\n        text-align: right;\n    }\n</style>\n<table border=\"1\" class=\"dataframe\">\n  <thead>\n    <tr style=\"text-align: right;\">\n      <th></th>\n      <th>luas</th>\n      <th>harga</th>\n      <th>kota</th>\n    </tr>\n  </thead>\n  <tbody>\n    <tr>\n      <th>0</th>\n      <td>1000</td>\n      <td>1000</td>\n      <td>1</td>\n    </tr>\n    <tr>\n      <th>1</th>\n      <td>2000</td>\n      <td>2000</td>\n      <td>1</td>\n    </tr>\n    <tr>\n      <th>2</th>\n      <td>3000</td>\n      <td>3000</td>\n      <td>1</td>\n    </tr>\n    <tr>\n      <th>3</th>\n      <td>4000</td>\n      <td>4000</td>\n      <td>1</td>\n    </tr>\n    <tr>\n      <th>4</th>\n      <td>5000</td>\n      <td>5000</td>\n      <td>1</td>\n    </tr>\n    <tr>\n      <th>5</th>\n      <td>1000</td>\n      <td>500</td>\n      <td>0</td>\n    </tr>\n    <tr>\n      <th>6</th>\n      <td>2000</td>\n      <td>1000</td>\n      <td>0</td>\n    </tr>\n    <tr>\n      <th>7</th>\n      <td>3000</td>\n      <td>1500</td>\n      <td>0</td>\n    </tr>\n    <tr>\n      <th>8</th>\n      <td>4000</td>\n      <td>2000</td>\n      <td>0</td>\n    </tr>\n    <tr>\n      <th>9</th>\n      <td>5000</td>\n      <td>2500</td>\n      <td>0</td>\n    </tr>\n    <tr>\n      <th>10</th>\n      <td>1000</td>\n      <td>2000</td>\n      <td>2</td>\n    </tr>\n    <tr>\n      <th>11</th>\n      <td>2000</td>\n      <td>4000</td>\n      <td>2</td>\n    </tr>\n    <tr>\n      <th>12</th>\n      <td>3000</td>\n      <td>6000</td>\n      <td>2</td>\n    </tr>\n    <tr>\n      <th>13</th>\n      <td>4000</td>\n      <td>8000</td>\n      <td>2</td>\n    </tr>\n    <tr>\n      <th>14</th>\n      <td>5000</td>\n      <td>10000</td>\n      <td>2</td>\n    </tr>\n  </tbody>\n</table>\n</div>",
      "text/plain": "    luas  harga  kota\n0   1000   1000     1\n1   2000   2000     1\n2   3000   3000     1\n3   4000   4000     1\n4   5000   5000     1\n5   1000    500     0\n6   2000   1000     0\n7   3000   1500     0\n8   4000   2000     0\n9   5000   2500     0\n10  1000   2000     2\n11  2000   4000     2\n12  3000   6000     2\n13  4000   8000     2\n14  5000  10000     2"
     },
     "execution_count": 9,
     "metadata": {},
     "output_type": "execute_result"
    }
   ],
   "source": [
    "from sklearn.preprocessing import LabelEncoder\n",
    "label = LabelEncoder()\n",
    "dfUji = df\n",
    "dfUji['kota'] = label.fit_transform(dfUji['kota'])\n",
    "dfUji"
   ]
  },
  {
   "cell_type": "code",
   "execution_count": 10,
   "metadata": {},
   "outputs": [],
   "source": [
    "x = dfUji[['kota','luas']]\n",
    "y = dfUji['harga']"
   ]
  },
  {
   "cell_type": "code",
   "execution_count": 11,
   "metadata": {},
   "outputs": [
    {
     "data": {
      "text/plain": "LinearRegression(copy_X=True, fit_intercept=True, n_jobs=None, normalize=False)"
     },
     "execution_count": 11,
     "metadata": {},
     "output_type": "execute_result"
    }
   ],
   "source": [
    "model1 = LinearRegression()\n",
    "model1.fit(x,y)"
   ]
  },
  {
   "cell_type": "code",
   "execution_count": 12,
   "metadata": {},
   "outputs": [
    {
     "data": {
      "text/plain": "array([ 1166.66666667,  2333.33333333,  3500.        ,  4666.66666667,\n        5833.33333333, -1083.33333333,    83.33333333,  1250.        ,\n        2416.66666667,  3583.33333333,  3416.66666667,  4583.33333333,\n        5750.        ,  6916.66666667,  8083.33333333])"
     },
     "execution_count": 12,
     "metadata": {},
     "output_type": "execute_result"
    }
   ],
   "source": [
    "dfPrice_LE = model1.predict(x)\n",
    "dfPrice_LE"
   ]
  },
  {
   "cell_type": "code",
   "execution_count": 13,
   "metadata": {},
   "outputs": [
    {
     "data": {
      "text/html": "<div>\n<style scoped>\n    .dataframe tbody tr th:only-of-type {\n        vertical-align: middle;\n    }\n\n    .dataframe tbody tr th {\n        vertical-align: top;\n    }\n\n    .dataframe thead th {\n        text-align: right;\n    }\n</style>\n<table border=\"1\" class=\"dataframe\">\n  <thead>\n    <tr style=\"text-align: right;\">\n      <th></th>\n      <th>luas</th>\n      <th>harga</th>\n      <th>kota</th>\n      <th>Best Price LE</th>\n    </tr>\n  </thead>\n  <tbody>\n    <tr>\n      <th>0</th>\n      <td>1000</td>\n      <td>1000</td>\n      <td>1</td>\n      <td>1166.666667</td>\n    </tr>\n    <tr>\n      <th>1</th>\n      <td>2000</td>\n      <td>2000</td>\n      <td>1</td>\n      <td>2333.333333</td>\n    </tr>\n    <tr>\n      <th>2</th>\n      <td>3000</td>\n      <td>3000</td>\n      <td>1</td>\n      <td>3500.000000</td>\n    </tr>\n    <tr>\n      <th>3</th>\n      <td>4000</td>\n      <td>4000</td>\n      <td>1</td>\n      <td>4666.666667</td>\n    </tr>\n    <tr>\n      <th>4</th>\n      <td>5000</td>\n      <td>5000</td>\n      <td>1</td>\n      <td>5833.333333</td>\n    </tr>\n    <tr>\n      <th>5</th>\n      <td>1000</td>\n      <td>500</td>\n      <td>0</td>\n      <td>-1083.333333</td>\n    </tr>\n    <tr>\n      <th>6</th>\n      <td>2000</td>\n      <td>1000</td>\n      <td>0</td>\n      <td>83.333333</td>\n    </tr>\n    <tr>\n      <th>7</th>\n      <td>3000</td>\n      <td>1500</td>\n      <td>0</td>\n      <td>1250.000000</td>\n    </tr>\n    <tr>\n      <th>8</th>\n      <td>4000</td>\n      <td>2000</td>\n      <td>0</td>\n      <td>2416.666667</td>\n    </tr>\n    <tr>\n      <th>9</th>\n      <td>5000</td>\n      <td>2500</td>\n      <td>0</td>\n      <td>3583.333333</td>\n    </tr>\n    <tr>\n      <th>10</th>\n      <td>1000</td>\n      <td>2000</td>\n      <td>2</td>\n      <td>3416.666667</td>\n    </tr>\n    <tr>\n      <th>11</th>\n      <td>2000</td>\n      <td>4000</td>\n      <td>2</td>\n      <td>4583.333333</td>\n    </tr>\n    <tr>\n      <th>12</th>\n      <td>3000</td>\n      <td>6000</td>\n      <td>2</td>\n      <td>5750.000000</td>\n    </tr>\n    <tr>\n      <th>13</th>\n      <td>4000</td>\n      <td>8000</td>\n      <td>2</td>\n      <td>6916.666667</td>\n    </tr>\n    <tr>\n      <th>14</th>\n      <td>5000</td>\n      <td>10000</td>\n      <td>2</td>\n      <td>8083.333333</td>\n    </tr>\n  </tbody>\n</table>\n</div>",
      "text/plain": "    luas  harga  kota  Best Price LE\n0   1000   1000     1    1166.666667\n1   2000   2000     1    2333.333333\n2   3000   3000     1    3500.000000\n3   4000   4000     1    4666.666667\n4   5000   5000     1    5833.333333\n5   1000    500     0   -1083.333333\n6   2000   1000     0      83.333333\n7   3000   1500     0    1250.000000\n8   4000   2000     0    2416.666667\n9   5000   2500     0    3583.333333\n10  1000   2000     2    3416.666667\n11  2000   4000     2    4583.333333\n12  3000   6000     2    5750.000000\n13  4000   8000     2    6916.666667\n14  5000  10000     2    8083.333333"
     },
     "execution_count": 13,
     "metadata": {},
     "output_type": "execute_result"
    }
   ],
   "source": [
    "df['Best Price LE'] = dfPrice_LE\n",
    "df"
   ]
  },
  {
   "cell_type": "markdown",
   "execution_count": null,
   "metadata": {},
   "outputs": [],
   "source": [
    "### 3. Label Encoder + One Hot Encoder Sklearn"
   ]
  },
  {
   "cell_type": "code",
   "execution_count": 14,
   "metadata": {},
   "outputs": [],
   "source": [
    "from sklearn.preprocessing import OneHotEncoder\n",
    "from sklearn.compose import ColumnTransformer\n",
    "#\n",
    "ct = ColumnTransformer([('one_hot_encoder', OneHotEncoder(categories='auto'), [0])], remainder='passthrough')\n",
    "a = np.array(ct.fit_transform(x), dtype=np.int64)\n",
    "b = y"
   ]
  },
  {
   "cell_type": "code",
   "execution_count": 17,
   "metadata": {},
   "outputs": [
    {
     "data": {
      "text/plain": "array([[   0,    1,    0, 1000],\n       [   0,    1,    0, 2000],\n       [   0,    1,    0, 3000],\n       [   0,    1,    0, 4000],\n       [   0,    1,    0, 5000],\n       [   1,    0,    0, 1000],\n       [   1,    0,    0, 2000],\n       [   1,    0,    0, 3000],\n       [   1,    0,    0, 4000],\n       [   1,    0,    0, 5000],\n       [   0,    0,    1, 1000],\n       [   0,    0,    1, 2000],\n       [   0,    0,    1, 3000],\n       [   0,    0,    1, 4000],\n       [   0,    0,    1, 5000]], dtype=int64)"
     },
     "execution_count": 17,
     "metadata": {},
     "output_type": "execute_result"
    }
   ],
   "source": [
    "a"
   ]
  },
  {
   "cell_type": "code",
   "execution_count": 18,
   "metadata": {},
   "outputs": [
    {
     "data": {
      "text/plain": "0      1000\n1      2000\n2      3000\n3      4000\n4      5000\n5       500\n6      1000\n7      1500\n8      2000\n9      2500\n10     2000\n11     4000\n12     6000\n13     8000\n14    10000\nName: harga, dtype: int64"
     },
     "execution_count": 18,
     "metadata": {},
     "output_type": "execute_result"
    }
   ],
   "source": [
    "b"
   ]
  },
  {
   "cell_type": "code",
   "execution_count": 15,
   "metadata": {},
   "outputs": [
    {
     "data": {
      "text/plain": "LinearRegression(copy_X=True, fit_intercept=True, n_jobs=None, normalize=False)"
     },
     "execution_count": 15,
     "metadata": {},
     "output_type": "execute_result"
    }
   ],
   "source": [
    "from sklearn.linear_model import LinearRegression\n",
    "model = LinearRegression()\n",
    "#x = np.array 2D & y = pd series\n",
    "model.fit(x,y)"
   ]
  },
  {
   "cell_type": "code",
   "execution_count": 16,
   "metadata": {},
   "outputs": [
    {
     "data": {
      "text/html": "<div>\n<style scoped>\n    .dataframe tbody tr th:only-of-type {\n        vertical-align: middle;\n    }\n\n    .dataframe tbody tr th {\n        vertical-align: top;\n    }\n\n    .dataframe thead th {\n        text-align: right;\n    }\n</style>\n<table border=\"1\" class=\"dataframe\">\n  <thead>\n    <tr style=\"text-align: right;\">\n      <th></th>\n      <th>luas</th>\n      <th>harga</th>\n      <th>kota</th>\n      <th>Best Price LE</th>\n      <th>Best Price LE_OHE</th>\n    </tr>\n  </thead>\n  <tbody>\n    <tr>\n      <th>0</th>\n      <td>1000</td>\n      <td>1000</td>\n      <td>1</td>\n      <td>1166.666667</td>\n      <td>1166.666667</td>\n    </tr>\n    <tr>\n      <th>1</th>\n      <td>2000</td>\n      <td>2000</td>\n      <td>1</td>\n      <td>2333.333333</td>\n      <td>2333.333333</td>\n    </tr>\n    <tr>\n      <th>2</th>\n      <td>3000</td>\n      <td>3000</td>\n      <td>1</td>\n      <td>3500.000000</td>\n      <td>3500.000000</td>\n    </tr>\n    <tr>\n      <th>3</th>\n      <td>4000</td>\n      <td>4000</td>\n      <td>1</td>\n      <td>4666.666667</td>\n      <td>4666.666667</td>\n    </tr>\n    <tr>\n      <th>4</th>\n      <td>5000</td>\n      <td>5000</td>\n      <td>1</td>\n      <td>5833.333333</td>\n      <td>5833.333333</td>\n    </tr>\n    <tr>\n      <th>5</th>\n      <td>1000</td>\n      <td>500</td>\n      <td>0</td>\n      <td>-1083.333333</td>\n      <td>-1083.333333</td>\n    </tr>\n    <tr>\n      <th>6</th>\n      <td>2000</td>\n      <td>1000</td>\n      <td>0</td>\n      <td>83.333333</td>\n      <td>83.333333</td>\n    </tr>\n    <tr>\n      <th>7</th>\n      <td>3000</td>\n      <td>1500</td>\n      <td>0</td>\n      <td>1250.000000</td>\n      <td>1250.000000</td>\n    </tr>\n    <tr>\n      <th>8</th>\n      <td>4000</td>\n      <td>2000</td>\n      <td>0</td>\n      <td>2416.666667</td>\n      <td>2416.666667</td>\n    </tr>\n    <tr>\n      <th>9</th>\n      <td>5000</td>\n      <td>2500</td>\n      <td>0</td>\n      <td>3583.333333</td>\n      <td>3583.333333</td>\n    </tr>\n    <tr>\n      <th>10</th>\n      <td>1000</td>\n      <td>2000</td>\n      <td>2</td>\n      <td>3416.666667</td>\n      <td>3416.666667</td>\n    </tr>\n    <tr>\n      <th>11</th>\n      <td>2000</td>\n      <td>4000</td>\n      <td>2</td>\n      <td>4583.333333</td>\n      <td>4583.333333</td>\n    </tr>\n    <tr>\n      <th>12</th>\n      <td>3000</td>\n      <td>6000</td>\n      <td>2</td>\n      <td>5750.000000</td>\n      <td>5750.000000</td>\n    </tr>\n    <tr>\n      <th>13</th>\n      <td>4000</td>\n      <td>8000</td>\n      <td>2</td>\n      <td>6916.666667</td>\n      <td>6916.666667</td>\n    </tr>\n    <tr>\n      <th>14</th>\n      <td>5000</td>\n      <td>10000</td>\n      <td>2</td>\n      <td>8083.333333</td>\n      <td>8083.333333</td>\n    </tr>\n  </tbody>\n</table>\n</div>",
      "text/plain": "    luas  harga  kota  Best Price LE  Best Price LE_OHE\n0   1000   1000     1    1166.666667        1166.666667\n1   2000   2000     1    2333.333333        2333.333333\n2   3000   3000     1    3500.000000        3500.000000\n3   4000   4000     1    4666.666667        4666.666667\n4   5000   5000     1    5833.333333        5833.333333\n5   1000    500     0   -1083.333333       -1083.333333\n6   2000   1000     0      83.333333          83.333333\n7   3000   1500     0    1250.000000        1250.000000\n8   4000   2000     0    2416.666667        2416.666667\n9   5000   2500     0    3583.333333        3583.333333\n10  1000   2000     2    3416.666667        3416.666667\n11  2000   4000     2    4583.333333        4583.333333\n12  3000   6000     2    5750.000000        5750.000000\n13  4000   8000     2    6916.666667        6916.666667\n14  5000  10000     2    8083.333333        8083.333333"
     },
     "execution_count": 16,
     "metadata": {},
     "output_type": "execute_result"
    }
   ],
   "source": [
    "dfLE_OHE = model.predict(x)\n",
    "df['Best Price LE_OHE'] = dfLE_OHE\n",
    "df"
   ]
  },
  {
   "cell_type": "code",
   "execution_count": null,
   "metadata": {},
   "outputs": [],
   "source": []
  }
 ]
}