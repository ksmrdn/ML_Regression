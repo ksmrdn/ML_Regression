{
 "cells": [
  {
   "cell_type": "code",
   "execution_count": 1,
   "metadata": {},
   "outputs": [],
   "source": [
    "import sklearn as linear_model\n",
    "import pandas as pd\n",
    "import numpy as np\n",
    "import matplotlib.pyplot as plt\n",
    "import sklearn.datasets \n",
    "from sklearn.linear_model import LinearRegression"
   ]
  },
  {
   "cell_type": "markdown",
   "metadata": {},
   "source": [
    "### Standarisasi\n",
    "\n",
    "Scaling, minimize gap, show outlier"
   ]
  },
  {
   "cell_type": "code",
   "execution_count": 3,
   "metadata": {},
   "outputs": [
    {
     "data": {
      "text/html": [
       "<div>\n",
       "<style scoped>\n",
       "    .dataframe tbody tr th:only-of-type {\n",
       "        vertical-align: middle;\n",
       "    }\n",
       "\n",
       "    .dataframe tbody tr th {\n",
       "        vertical-align: top;\n",
       "    }\n",
       "\n",
       "    .dataframe thead th {\n",
       "        text-align: right;\n",
       "    }\n",
       "</style>\n",
       "<table border=\"1\" class=\"dataframe\">\n",
       "  <thead>\n",
       "    <tr style=\"text-align: right;\">\n",
       "      <th></th>\n",
       "      <th>TB</th>\n",
       "      <th>BB</th>\n",
       "    </tr>\n",
       "  </thead>\n",
       "  <tbody>\n",
       "    <tr>\n",
       "      <td>0</td>\n",
       "      <td>0.80</td>\n",
       "      <td>20</td>\n",
       "    </tr>\n",
       "    <tr>\n",
       "      <td>1</td>\n",
       "      <td>0.85</td>\n",
       "      <td>25</td>\n",
       "    </tr>\n",
       "    <tr>\n",
       "      <td>2</td>\n",
       "      <td>0.92</td>\n",
       "      <td>21</td>\n",
       "    </tr>\n",
       "    <tr>\n",
       "      <td>3</td>\n",
       "      <td>0.88</td>\n",
       "      <td>29</td>\n",
       "    </tr>\n",
       "    <tr>\n",
       "      <td>4</td>\n",
       "      <td>0.82</td>\n",
       "      <td>30</td>\n",
       "    </tr>\n",
       "    <tr>\n",
       "      <td>5</td>\n",
       "      <td>0.86</td>\n",
       "      <td>21</td>\n",
       "    </tr>\n",
       "    <tr>\n",
       "      <td>6</td>\n",
       "      <td>0.87</td>\n",
       "      <td>28</td>\n",
       "    </tr>\n",
       "    <tr>\n",
       "      <td>7</td>\n",
       "      <td>0.93</td>\n",
       "      <td>27</td>\n",
       "    </tr>\n",
       "    <tr>\n",
       "      <td>8</td>\n",
       "      <td>0.81</td>\n",
       "      <td>29</td>\n",
       "    </tr>\n",
       "    <tr>\n",
       "      <td>9</td>\n",
       "      <td>1.00</td>\n",
       "      <td>30</td>\n",
       "    </tr>\n",
       "  </tbody>\n",
       "</table>\n",
       "</div>"
      ],
      "text/plain": [
       "     TB  BB\n",
       "0  0.80  20\n",
       "1  0.85  25\n",
       "2  0.92  21\n",
       "3  0.88  29\n",
       "4  0.82  30\n",
       "5  0.86  21\n",
       "6  0.87  28\n",
       "7  0.93  27\n",
       "8  0.81  29\n",
       "9  1.00  30"
      ]
     },
     "execution_count": 3,
     "metadata": {},
     "output_type": "execute_result"
    }
   ],
   "source": [
    "data={\n",
    "    'TB':[0.8,0.85,0.92,0.88,0.82,0.86,0.87,0.93,0.81,1],\n",
    "    'BB':[20,25,21,29,30,21,28,27,29,30]\n",
    "}\n",
    "data=pd.DataFrame(data)\n",
    "data"
   ]
  },
  {
   "cell_type": "markdown",
   "metadata": {},
   "source": [
    "<hr>\n",
    "\n",
    "## Standarisasi Formula\n",
    "\n",
    "Standarisasi $\\displaystyle z=\\frac {X-\\bar{X}} {s} $\n",
    "dengan standard deviasi \n",
    "$\\displaystyle s = \\sqrt{\\frac{\\sum(x-\\bar{x})^2}{n-1}} $\n",
    "\n",
    "- high outlier jika $ z_{score} >2.5 $\n",
    "- low outlier jika $ z_{score} < -2.5 $\n",
    "- Data terstandarisasi mean ~ 0 dan std ~1"
   ]
  },
  {
   "cell_type": "code",
   "execution_count": 4,
   "metadata": {},
   "outputs": [
    {
     "data": {
      "text/plain": [
       "0.06186005711819757"
      ]
     },
     "execution_count": 4,
     "metadata": {},
     "output_type": "execute_result"
    }
   ],
   "source": [
    "data['TB'].std()"
   ]
  },
  {
   "cell_type": "code",
   "execution_count": 8,
   "metadata": {},
   "outputs": [
    {
     "name": "stdout",
     "output_type": "stream",
     "text": [
      "0.05868560300448484\n"
     ]
    },
    {
     "data": {
      "text/plain": [
       "0.06186005711819757"
      ]
     },
     "execution_count": 8,
     "metadata": {},
     "output_type": "execute_result"
    }
   ],
   "source": [
    "print(np.std(data['TB']))\n",
    "np.std(data['TB'], ddof=1) \n",
    "#delta degree of fredom -- feature nya -- kalau di excel sama pandas ddof=  1. kalau di sklearn dan numpy defualtnya ddof= 0"
   ]
  },
  {
   "cell_type": "code",
   "execution_count": 16,
   "metadata": {},
   "outputs": [
    {
     "data": {
      "text/html": [
       "<div>\n",
       "<style scoped>\n",
       "    .dataframe tbody tr th:only-of-type {\n",
       "        vertical-align: middle;\n",
       "    }\n",
       "\n",
       "    .dataframe tbody tr th {\n",
       "        vertical-align: top;\n",
       "    }\n",
       "\n",
       "    .dataframe thead th {\n",
       "        text-align: right;\n",
       "    }\n",
       "</style>\n",
       "<table border=\"1\" class=\"dataframe\">\n",
       "  <thead>\n",
       "    <tr style=\"text-align: right;\">\n",
       "      <th></th>\n",
       "      <th>TB</th>\n",
       "      <th>BB</th>\n",
       "      <th>Z TB PD</th>\n",
       "      <th>Z BB PD</th>\n",
       "      <th>Z TB NP</th>\n",
       "      <th>Z BB NP</th>\n",
       "    </tr>\n",
       "  </thead>\n",
       "  <tbody>\n",
       "    <tr>\n",
       "      <td>0</td>\n",
       "      <td>0.80</td>\n",
       "      <td>20</td>\n",
       "      <td>-1.196248</td>\n",
       "      <td>-1.510526</td>\n",
       "      <td>-1.260957</td>\n",
       "      <td>-1.592235</td>\n",
       "    </tr>\n",
       "    <tr>\n",
       "      <td>1</td>\n",
       "      <td>0.85</td>\n",
       "      <td>25</td>\n",
       "      <td>-0.387972</td>\n",
       "      <td>-0.251754</td>\n",
       "      <td>-0.408959</td>\n",
       "      <td>-0.265372</td>\n",
       "    </tr>\n",
       "    <tr>\n",
       "      <td>2</td>\n",
       "      <td>0.92</td>\n",
       "      <td>21</td>\n",
       "      <td>0.743614</td>\n",
       "      <td>-1.258772</td>\n",
       "      <td>0.783838</td>\n",
       "      <td>-1.326862</td>\n",
       "    </tr>\n",
       "    <tr>\n",
       "      <td>3</td>\n",
       "      <td>0.88</td>\n",
       "      <td>29</td>\n",
       "      <td>0.096993</td>\n",
       "      <td>0.755263</td>\n",
       "      <td>0.102240</td>\n",
       "      <td>0.796117</td>\n",
       "    </tr>\n",
       "    <tr>\n",
       "      <td>4</td>\n",
       "      <td>0.82</td>\n",
       "      <td>30</td>\n",
       "      <td>-0.872938</td>\n",
       "      <td>1.007018</td>\n",
       "      <td>-0.920158</td>\n",
       "      <td>1.061490</td>\n",
       "    </tr>\n",
       "    <tr>\n",
       "      <td>5</td>\n",
       "      <td>0.86</td>\n",
       "      <td>21</td>\n",
       "      <td>-0.226317</td>\n",
       "      <td>-1.258772</td>\n",
       "      <td>-0.238559</td>\n",
       "      <td>-1.326862</td>\n",
       "    </tr>\n",
       "    <tr>\n",
       "      <td>6</td>\n",
       "      <td>0.87</td>\n",
       "      <td>28</td>\n",
       "      <td>-0.064662</td>\n",
       "      <td>0.503509</td>\n",
       "      <td>-0.068160</td>\n",
       "      <td>0.530745</td>\n",
       "    </tr>\n",
       "    <tr>\n",
       "      <td>7</td>\n",
       "      <td>0.93</td>\n",
       "      <td>27</td>\n",
       "      <td>0.905269</td>\n",
       "      <td>0.251754</td>\n",
       "      <td>0.954237</td>\n",
       "      <td>0.265372</td>\n",
       "    </tr>\n",
       "    <tr>\n",
       "      <td>8</td>\n",
       "      <td>0.81</td>\n",
       "      <td>29</td>\n",
       "      <td>-1.034593</td>\n",
       "      <td>0.755263</td>\n",
       "      <td>-1.090557</td>\n",
       "      <td>0.796117</td>\n",
       "    </tr>\n",
       "    <tr>\n",
       "      <td>9</td>\n",
       "      <td>1.00</td>\n",
       "      <td>30</td>\n",
       "      <td>2.036856</td>\n",
       "      <td>1.007018</td>\n",
       "      <td>2.147034</td>\n",
       "      <td>1.061490</td>\n",
       "    </tr>\n",
       "  </tbody>\n",
       "</table>\n",
       "</div>"
      ],
      "text/plain": [
       "     TB  BB   Z TB PD   Z BB PD   Z TB NP   Z BB NP\n",
       "0  0.80  20 -1.196248 -1.510526 -1.260957 -1.592235\n",
       "1  0.85  25 -0.387972 -0.251754 -0.408959 -0.265372\n",
       "2  0.92  21  0.743614 -1.258772  0.783838 -1.326862\n",
       "3  0.88  29  0.096993  0.755263  0.102240  0.796117\n",
       "4  0.82  30 -0.872938  1.007018 -0.920158  1.061490\n",
       "5  0.86  21 -0.226317 -1.258772 -0.238559 -1.326862\n",
       "6  0.87  28 -0.064662  0.503509 -0.068160  0.530745\n",
       "7  0.93  27  0.905269  0.251754  0.954237  0.265372\n",
       "8  0.81  29 -1.034593  0.755263 -1.090557  0.796117\n",
       "9  1.00  30  2.036856  1.007018  2.147034  1.061490"
      ]
     },
     "execution_count": 16,
     "metadata": {},
     "output_type": "execute_result"
    }
   ],
   "source": [
    "data['Z TB PD']= (data['TB']-data['TB'].mean())/data['TB'].std()\n",
    "data['Z BB PD']= (data['BB']-data['BB'].mean())/data['BB'].std()\n",
    "data\n",
    "\n",
    "data['Z TB NP']= (data['TB']-data['TB'].mean())/np.std(data['TB'])\n",
    "data['Z BB NP']= (data['BB']-data['BB'].mean())/np.std(data['BB'])\n",
    "data"
   ]
  },
  {
   "cell_type": "code",
   "execution_count": 18,
   "metadata": {},
   "outputs": [
    {
     "name": "stdout",
     "output_type": "stream",
     "text": [
      "1.7763568394002506e-16\n",
      "1.3322676295501878e-16\n",
      "-8.881784197001253e-17\n",
      "0.0\n",
      "1.0000000000000002\n",
      "1.0540925533894598\n",
      "1.0\n",
      "1.0540925533894596\n"
     ]
    }
   ],
   "source": [
    "print(data['Z TB PD'].mean())\n",
    "print(data['Z TB NP'].mean())\n",
    "print(data['Z BB PD'].mean())\n",
    "print(data['Z BB NP'].mean())\n",
    "\n",
    "print(data['Z TB PD'].std())\n",
    "print(data['Z TB NP'].std())\n",
    "print(data['Z BB PD'].std())\n",
    "print(data['Z BB NP'].std())"
   ]
  },
  {
   "cell_type": "code",
   "execution_count": 20,
   "metadata": {},
   "outputs": [
    {
     "data": {
      "text/plain": [
       "[<matplotlib.lines.Line2D at 0x1e829d61788>]"
      ]
     },
     "execution_count": 20,
     "metadata": {},
     "output_type": "execute_result"
    },
    {
     "data": {
      "image/png": "[encoded data removed]",
      "text/plain": [
       "<Figure size 432x288 with 3 Axes>"
      ]
     },
     "metadata": {
      "needs_background": "light"
     },
     "output_type": "display_data"
    }
   ],
   "source": [
    "plt.subplot(131)\n",
    "plt.plot(data['TB'],data['BB'],'bo')\n",
    "plt.subplot(132)\n",
    "plt.plot(data['Z TB PD'],data['Z BB PD'],'bo')\n",
    "plt.subplot(133)\n",
    "plt.plot(data['Z TB NP'],data['Z BB NP'],'bo')"
   ]
  },
  {
   "cell_type": "markdown",
   "metadata": {},
   "source": [
    "### Standarisaasi dengan Sklearn"
   ]
  },
  {
   "cell_type": "code",
   "execution_count": 22,
   "metadata": {},
   "outputs": [],
   "source": [
    "from sklearn.preprocessing import StandardScaler"
   ]
  },
  {
   "cell_type": "code",
   "execution_count": 38,
   "metadata": {},
   "outputs": [],
   "source": [
    "scaler1= StandardScaler()\n",
    "scaler1.fit(data[['TB']])\n",
    "ztb= scaler1.transform(data[['TB']])\n"
   ]
  },
  {
   "cell_type": "code",
   "execution_count": 39,
   "metadata": {},
   "outputs": [],
   "source": [
    "scaler2= StandardScaler()\n",
    "scaler2.fit(data[['BB']])\n",
    "zbb= scaler2.transform(data[['BB']])"
   ]
  },
  {
   "cell_type": "code",
   "execution_count": 40,
   "metadata": {},
   "outputs": [
    {
     "data": {
      "text/html": [
       "<div>\n",
       "<style scoped>\n",
       "    .dataframe tbody tr th:only-of-type {\n",
       "        vertical-align: middle;\n",
       "    }\n",
       "\n",
       "    .dataframe tbody tr th {\n",
       "        vertical-align: top;\n",
       "    }\n",
       "\n",
       "    .dataframe thead th {\n",
       "        text-align: right;\n",
       "    }\n",
       "</style>\n",
       "<table border=\"1\" class=\"dataframe\">\n",
       "  <thead>\n",
       "    <tr style=\"text-align: right;\">\n",
       "      <th></th>\n",
       "      <th>TB</th>\n",
       "      <th>BB</th>\n",
       "      <th>Z TB PD</th>\n",
       "      <th>Z BB PD</th>\n",
       "      <th>Z TB NP</th>\n",
       "      <th>Z BB NP</th>\n",
       "      <th>Z TB SKL</th>\n",
       "      <th>Z BB SKL</th>\n",
       "    </tr>\n",
       "  </thead>\n",
       "  <tbody>\n",
       "    <tr>\n",
       "      <td>0</td>\n",
       "      <td>0.80</td>\n",
       "      <td>20</td>\n",
       "      <td>-1.196248</td>\n",
       "      <td>-1.510526</td>\n",
       "      <td>-1.260957</td>\n",
       "      <td>-1.592235</td>\n",
       "      <td>-1.260957</td>\n",
       "      <td>-1.592235</td>\n",
       "    </tr>\n",
       "    <tr>\n",
       "      <td>1</td>\n",
       "      <td>0.85</td>\n",
       "      <td>25</td>\n",
       "      <td>-0.387972</td>\n",
       "      <td>-0.251754</td>\n",
       "      <td>-0.408959</td>\n",
       "      <td>-0.265372</td>\n",
       "      <td>-0.408959</td>\n",
       "      <td>-0.265372</td>\n",
       "    </tr>\n",
       "    <tr>\n",
       "      <td>2</td>\n",
       "      <td>0.92</td>\n",
       "      <td>21</td>\n",
       "      <td>0.743614</td>\n",
       "      <td>-1.258772</td>\n",
       "      <td>0.783838</td>\n",
       "      <td>-1.326862</td>\n",
       "      <td>0.783838</td>\n",
       "      <td>-1.326862</td>\n",
       "    </tr>\n",
       "    <tr>\n",
       "      <td>3</td>\n",
       "      <td>0.88</td>\n",
       "      <td>29</td>\n",
       "      <td>0.096993</td>\n",
       "      <td>0.755263</td>\n",
       "      <td>0.102240</td>\n",
       "      <td>0.796117</td>\n",
       "      <td>0.102240</td>\n",
       "      <td>0.796117</td>\n",
       "    </tr>\n",
       "    <tr>\n",
       "      <td>4</td>\n",
       "      <td>0.82</td>\n",
       "      <td>30</td>\n",
       "      <td>-0.872938</td>\n",
       "      <td>1.007018</td>\n",
       "      <td>-0.920158</td>\n",
       "      <td>1.061490</td>\n",
       "      <td>-0.920158</td>\n",
       "      <td>1.061490</td>\n",
       "    </tr>\n",
       "    <tr>\n",
       "      <td>5</td>\n",
       "      <td>0.86</td>\n",
       "      <td>21</td>\n",
       "      <td>-0.226317</td>\n",
       "      <td>-1.258772</td>\n",
       "      <td>-0.238559</td>\n",
       "      <td>-1.326862</td>\n",
       "      <td>-0.238559</td>\n",
       "      <td>-1.326862</td>\n",
       "    </tr>\n",
       "    <tr>\n",
       "      <td>6</td>\n",
       "      <td>0.87</td>\n",
       "      <td>28</td>\n",
       "      <td>-0.064662</td>\n",
       "      <td>0.503509</td>\n",
       "      <td>-0.068160</td>\n",
       "      <td>0.530745</td>\n",
       "      <td>-0.068160</td>\n",
       "      <td>0.530745</td>\n",
       "    </tr>\n",
       "    <tr>\n",
       "      <td>7</td>\n",
       "      <td>0.93</td>\n",
       "      <td>27</td>\n",
       "      <td>0.905269</td>\n",
       "      <td>0.251754</td>\n",
       "      <td>0.954237</td>\n",
       "      <td>0.265372</td>\n",
       "      <td>0.954237</td>\n",
       "      <td>0.265372</td>\n",
       "    </tr>\n",
       "    <tr>\n",
       "      <td>8</td>\n",
       "      <td>0.81</td>\n",
       "      <td>29</td>\n",
       "      <td>-1.034593</td>\n",
       "      <td>0.755263</td>\n",
       "      <td>-1.090557</td>\n",
       "      <td>0.796117</td>\n",
       "      <td>-1.090557</td>\n",
       "      <td>0.796117</td>\n",
       "    </tr>\n",
       "    <tr>\n",
       "      <td>9</td>\n",
       "      <td>1.00</td>\n",
       "      <td>30</td>\n",
       "      <td>2.036856</td>\n",
       "      <td>1.007018</td>\n",
       "      <td>2.147034</td>\n",
       "      <td>1.061490</td>\n",
       "      <td>2.147034</td>\n",
       "      <td>1.061490</td>\n",
       "    </tr>\n",
       "  </tbody>\n",
       "</table>\n",
       "</div>"
      ],
      "text/plain": [
       "     TB  BB   Z TB PD   Z BB PD   Z TB NP   Z BB NP  Z TB SKL  Z BB SKL\n",
       "0  0.80  20 -1.196248 -1.510526 -1.260957 -1.592235 -1.260957 -1.592235\n",
       "1  0.85  25 -0.387972 -0.251754 -0.408959 -0.265372 -0.408959 -0.265372\n",
       "2  0.92  21  0.743614 -1.258772  0.783838 -1.326862  0.783838 -1.326862\n",
       "3  0.88  29  0.096993  0.755263  0.102240  0.796117  0.102240  0.796117\n",
       "4  0.82  30 -0.872938  1.007018 -0.920158  1.061490 -0.920158  1.061490\n",
       "5  0.86  21 -0.226317 -1.258772 -0.238559 -1.326862 -0.238559 -1.326862\n",
       "6  0.87  28 -0.064662  0.503509 -0.068160  0.530745 -0.068160  0.530745\n",
       "7  0.93  27  0.905269  0.251754  0.954237  0.265372  0.954237  0.265372\n",
       "8  0.81  29 -1.034593  0.755263 -1.090557  0.796117 -1.090557  0.796117\n",
       "9  1.00  30  2.036856  1.007018  2.147034  1.061490  2.147034  1.061490"
      ]
     },
     "execution_count": 40,
     "metadata": {},
     "output_type": "execute_result"
    }
   ],
   "source": [
    "data['Z TB SKL']= ztb\n",
    "data['Z BB SKL']= zbb\n",
    "data"
   ]
  },
  {
   "cell_type": "markdown",
   "metadata": {},
   "source": [
    "### inverse transform dari Z ke nilai asli"
   ]
  },
  {
   "cell_type": "code",
   "execution_count": 42,
   "metadata": {},
   "outputs": [
    {
     "name": "stdout",
     "output_type": "stream",
     "text": [
      "[0.8  0.85 0.92 0.88 0.82 0.86 0.87 0.93 0.81 1.  ]\n"
     ]
    }
   ],
   "source": [
    "invTB=scaler1.inverse_transform(data['Z TB SKL'])\n",
    "print(invTB)\n"
   ]
  },
  {
   "cell_type": "code",
   "execution_count": 43,
   "metadata": {},
   "outputs": [
    {
     "name": "stdout",
     "output_type": "stream",
     "text": [
      "[20. 25. 21. 29. 30. 21. 28. 27. 29. 30.]\n"
     ]
    }
   ],
   "source": [
    "invBB=scaler2.inverse_transform(data['Z BB SKL'])\n",
    "print(invBB)"
   ]
  },
  {
   "cell_type": "code",
   "execution_count": null,
   "metadata": {},
   "outputs": [],
   "source": []
  },
  {
   "cell_type": "code",
   "execution_count": null,
   "metadata": {},
   "outputs": [],
   "source": []
  },
  {
   "cell_type": "code",
   "execution_count": null,
   "metadata": {},
   "outputs": [],
   "source": []
  }
 ],
 "metadata": {
  "kernelspec": {
   "display_name": "Python 3",
   "language": "python",
   "name": "python3"
  },
  "language_info": {
   "codemirror_mode": {
    "name": "ipython",
    "version": 3
   },
   "file_extension": ".py",
   "mimetype": "text/x-python",
   "name": "python",
   "nbconvert_exporter": "python",
   "pygments_lexer": "ipython3",
   "version": "3.7.4"
  }
 },
 "nbformat": 4,
 "nbformat_minor": 4
}