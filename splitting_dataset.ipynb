{
 "nbformat": 4,
 "nbformat_minor": 2,
 "metadata": {
  "language_info": {
   "name": "python",
   "codemirror_mode": {
    "name": "ipython",
    "version": 3
   },
   "version": "3.7.4-final"
  },
  "orig_nbformat": 2,
  "file_extension": ".py",
  "mimetype": "text/x-python",
  "name": "python",
  "npconvert_exporter": "python",
  "pygments_lexer": "ipython3",
  "version": 3,
  "kernelspec": {
   "name": "python37464bitbaseconda9ac5713aaf5d4281bcc09ff0bf5e12f1",
   "display_name": "Python 3.7.4 64-bit ('base': conda)"
  }
 },
 "cells": [
  {
   "cell_type": "code",
   "execution_count": 1,
   "metadata": {},
   "outputs": [],
   "source": [
    "import pandas as pd\n",
    "import numpy as np"
   ]
  },
  {
   "cell_type": "code",
   "execution_count": 28,
   "metadata": {},
   "outputs": [
    {
     "data": {
      "text/html": "<div>\n<style scoped>\n    .dataframe tbody tr th:only-of-type {\n        vertical-align: middle;\n    }\n\n    .dataframe tbody tr th {\n        vertical-align: top;\n    }\n\n    .dataframe thead th {\n        text-align: right;\n    }\n</style>\n<table border=\"1\" class=\"dataframe\">\n  <thead>\n    <tr style=\"text-align: right;\">\n      <th></th>\n      <th>massa</th>\n      <th>harga</th>\n    </tr>\n  </thead>\n  <tbody>\n    <tr>\n      <td>0</td>\n      <td>1</td>\n      <td>1</td>\n    </tr>\n    <tr>\n      <td>1</td>\n      <td>2</td>\n      <td>2</td>\n    </tr>\n    <tr>\n      <td>2</td>\n      <td>3</td>\n      <td>3</td>\n    </tr>\n    <tr>\n      <td>3</td>\n      <td>4</td>\n      <td>4</td>\n    </tr>\n    <tr>\n      <td>4</td>\n      <td>5</td>\n      <td>5</td>\n    </tr>\n  </tbody>\n</table>\n</div>",
      "text/plain": "   massa  harga\n0      1      1\n1      2      2\n2      3      3\n3      4      4\n4      5      5"
     },
     "execution_count": 28,
     "metadata": {},
     "output_type": "execute_result"
    }
   ],
   "source": [
    "data = {\n",
    "    'massa': np.arange(1, 101),\n",
    "    'harga': np.arange(1, 101)\n",
    "}\n",
    "df = pd.DataFrame(data)\n",
    "df.head()"
   ]
  },
  {
   "cell_type": "code",
   "execution_count": 3,
   "metadata": {},
   "outputs": [
    {
     "data": {
      "text/html": "<div>\n<style scoped>\n    .dataframe tbody tr th:only-of-type {\n        vertical-align: middle;\n    }\n\n    .dataframe tbody tr th {\n        vertical-align: top;\n    }\n\n    .dataframe thead th {\n        text-align: right;\n    }\n</style>\n<table border=\"1\" class=\"dataframe\">\n  <thead>\n    <tr style=\"text-align: right;\">\n      <th></th>\n      <th>massa</th>\n      <th>harga</th>\n    </tr>\n  </thead>\n  <tbody>\n    <tr>\n      <td>94</td>\n      <td>95</td>\n      <td>95</td>\n    </tr>\n    <tr>\n      <td>95</td>\n      <td>96</td>\n      <td>96</td>\n    </tr>\n    <tr>\n      <td>96</td>\n      <td>97</td>\n      <td>97</td>\n    </tr>\n    <tr>\n      <td>97</td>\n      <td>98</td>\n      <td>98</td>\n    </tr>\n    <tr>\n      <td>98</td>\n      <td>99</td>\n      <td>99</td>\n    </tr>\n  </tbody>\n</table>\n</div>",
      "text/plain": "    massa  harga\n94     95     95\n95     96     96\n96     97     97\n97     98     98\n98     99     99"
     },
     "execution_count": 3,
     "metadata": {},
     "output_type": "execute_result"
    }
   ],
   "source": [
    "df.tail()"
   ]
  },
  {
   "cell_type": "code",
   "execution_count": 5,
   "metadata": {},
   "outputs": [
    {
     "data": {
      "text/html": "<div>\n<style scoped>\n    .dataframe tbody tr th:only-of-type {\n        vertical-align: middle;\n    }\n\n    .dataframe tbody tr th {\n        vertical-align: top;\n    }\n\n    .dataframe thead th {\n        text-align: right;\n    }\n</style>\n<table border=\"1\" class=\"dataframe\">\n  <thead>\n    <tr style=\"text-align: right;\">\n      <th></th>\n      <th>massa</th>\n      <th>harga</th>\n    </tr>\n  </thead>\n  <tbody>\n    <tr>\n      <td>0</td>\n      <td>1</td>\n      <td>1</td>\n    </tr>\n    <tr>\n      <td>1</td>\n      <td>2</td>\n      <td>2</td>\n    </tr>\n    <tr>\n      <td>2</td>\n      <td>3</td>\n      <td>3</td>\n    </tr>\n    <tr>\n      <td>3</td>\n      <td>4</td>\n      <td>4</td>\n    </tr>\n    <tr>\n      <td>4</td>\n      <td>5</td>\n      <td>5</td>\n    </tr>\n    <tr>\n      <td>...</td>\n      <td>...</td>\n      <td>...</td>\n    </tr>\n    <tr>\n      <td>76</td>\n      <td>77</td>\n      <td>77</td>\n    </tr>\n    <tr>\n      <td>77</td>\n      <td>78</td>\n      <td>78</td>\n    </tr>\n    <tr>\n      <td>78</td>\n      <td>79</td>\n      <td>79</td>\n    </tr>\n    <tr>\n      <td>79</td>\n      <td>80</td>\n      <td>80</td>\n    </tr>\n    <tr>\n      <td>80</td>\n      <td>81</td>\n      <td>81</td>\n    </tr>\n  </tbody>\n</table>\n<p>81 rows × 2 columns</p>\n</div>",
      "text/plain": "    massa  harga\n0       1      1\n1       2      2\n2       3      3\n3       4      4\n4       5      5\n..    ...    ...\n76     77     77\n77     78     78\n78     79     79\n79     80     80\n80     81     81\n\n[81 rows x 2 columns]"
     },
     "execution_count": 5,
     "metadata": {},
     "output_type": "execute_result"
    }
   ],
   "source": [
    "#Splitting manual %trainning & %testing\n",
    "dataTrain = df.iloc[:81]\n",
    "dataTrain"
   ]
  },
  {
   "cell_type": "code",
   "execution_count": 6,
   "metadata": {},
   "outputs": [
    {
     "data": {
      "text/html": "<div>\n<style scoped>\n    .dataframe tbody tr th:only-of-type {\n        vertical-align: middle;\n    }\n\n    .dataframe tbody tr th {\n        vertical-align: top;\n    }\n\n    .dataframe thead th {\n        text-align: right;\n    }\n</style>\n<table border=\"1\" class=\"dataframe\">\n  <thead>\n    <tr style=\"text-align: right;\">\n      <th></th>\n      <th>massa</th>\n      <th>harga</th>\n    </tr>\n  </thead>\n  <tbody>\n    <tr>\n      <td>81</td>\n      <td>82</td>\n      <td>82</td>\n    </tr>\n    <tr>\n      <td>82</td>\n      <td>83</td>\n      <td>83</td>\n    </tr>\n    <tr>\n      <td>83</td>\n      <td>84</td>\n      <td>84</td>\n    </tr>\n    <tr>\n      <td>84</td>\n      <td>85</td>\n      <td>85</td>\n    </tr>\n    <tr>\n      <td>85</td>\n      <td>86</td>\n      <td>86</td>\n    </tr>\n    <tr>\n      <td>86</td>\n      <td>87</td>\n      <td>87</td>\n    </tr>\n    <tr>\n      <td>87</td>\n      <td>88</td>\n      <td>88</td>\n    </tr>\n    <tr>\n      <td>88</td>\n      <td>89</td>\n      <td>89</td>\n    </tr>\n    <tr>\n      <td>89</td>\n      <td>90</td>\n      <td>90</td>\n    </tr>\n    <tr>\n      <td>90</td>\n      <td>91</td>\n      <td>91</td>\n    </tr>\n    <tr>\n      <td>91</td>\n      <td>92</td>\n      <td>92</td>\n    </tr>\n    <tr>\n      <td>92</td>\n      <td>93</td>\n      <td>93</td>\n    </tr>\n    <tr>\n      <td>93</td>\n      <td>94</td>\n      <td>94</td>\n    </tr>\n    <tr>\n      <td>94</td>\n      <td>95</td>\n      <td>95</td>\n    </tr>\n    <tr>\n      <td>95</td>\n      <td>96</td>\n      <td>96</td>\n    </tr>\n    <tr>\n      <td>96</td>\n      <td>97</td>\n      <td>97</td>\n    </tr>\n    <tr>\n      <td>97</td>\n      <td>98</td>\n      <td>98</td>\n    </tr>\n    <tr>\n      <td>98</td>\n      <td>99</td>\n      <td>99</td>\n    </tr>\n  </tbody>\n</table>\n</div>",
      "text/plain": "    massa  harga\n81     82     82\n82     83     83\n83     84     84\n84     85     85\n85     86     86\n86     87     87\n87     88     88\n88     89     89\n89     90     90\n90     91     91\n91     92     92\n92     93     93\n93     94     94\n94     95     95\n95     96     96\n96     97     97\n97     98     98\n98     99     99"
     },
     "execution_count": 6,
     "metadata": {},
     "output_type": "execute_result"
    }
   ],
   "source": [
    "dataTest = df.iloc[81:]\n",
    "dataTest"
   ]
  },
  {
   "cell_type": "code",
   "execution_count": 7,
   "metadata": {},
   "outputs": [],
   "source": [
    "massaTrain = dataTrain['massa']\n",
    "hargaTrain = dataTrain['harga']\n",
    "massaTest = dataTest['massa']\n",
    "hargaTest = dataTest['harga']"
   ]
  },
  {
   "cell_type": "markdown",
   "execution_count": 8,
   "metadata": {},
   "outputs": [],
   "source": [
    "## Linear Regression"
   ]
  },
  {
   "cell_type": "code",
   "execution_count": 12,
   "metadata": {},
   "outputs": [
    {
     "data": {
      "text/plain": "LinearRegression(copy_X=True, fit_intercept=True, n_jobs=None, normalize=False)"
     },
     "execution_count": 12,
     "metadata": {},
     "output_type": "execute_result"
    }
   ],
   "source": [
    "from sklearn.linear_model import LinearRegression\n",
    "model = LinearRegression()\n",
    "model.fit((np.array(massaTrain.tolist())).reshape(-1,1), hargaTrain)"
   ]
  },
  {
   "cell_type": "code",
   "execution_count": 15,
   "metadata": {},
   "outputs": [
    {
     "data": {
      "text/plain": "array([82., 83., 84., 85., 86., 87., 88., 89., 90., 91., 92., 93., 94.,\n       95., 96., 97., 98., 99.])"
     },
     "execution_count": 15,
     "metadata": {},
     "output_type": "execute_result"
    }
   ],
   "source": [
    "# model.predict((np.array(massaTest.tolist())))\n",
    "model.predict((np.array(massaTest.tolist())).reshape(-1,1))"
   ]
  },
  {
   "cell_type": "markdown",
   "execution_count": 16,
   "metadata": {},
   "outputs": [],
   "source": [
    "## Splitting data dengan SKLEARN: train_test_split"
   ]
  },
  {
   "cell_type": "code",
   "execution_count": 51,
   "metadata": {},
   "outputs": [],
   "source": [
    "from sklearn.model_selection import train_test_split\n",
    "a, b, c, d = train_test_split(df[['massa']], df['harga']) #train_size = 0.8 -> mengatur banyak train size, random_state = 10 -> statis"
   ]
  },
  {
   "cell_type": "code",
   "execution_count": 68,
   "metadata": {},
   "outputs": [],
   "source": [
    "# xtr = np.array(a.to_list()) #massa A 75% -> train\n",
    "# xtr"
   ]
  },
  {
   "cell_type": "code",
   "execution_count": 55,
   "metadata": {},
   "outputs": [],
   "source": [
    "# xts = np.array(b.to_list()) #massa B 25% -> test\n",
    "# xts"
   ]
  },
  {
   "cell_type": "code",
   "execution_count": 56,
   "metadata": {},
   "outputs": [],
   "source": [
    "# ytr = np.array(c.to_list()) #harga C 75% -> train\n",
    "# ytr"
   ]
  },
  {
   "cell_type": "code",
   "execution_count": 57,
   "metadata": {},
   "outputs": [],
   "source": [
    "# yts = np.array(d.to_list()) #harga D 25% -> test\n",
    "# yts"
   ]
  },
  {
   "cell_type": "code",
   "execution_count": 58,
   "metadata": {},
   "outputs": [
    {
     "data": {
      "text/plain": "LinearRegression(copy_X=True, fit_intercept=True, n_jobs=None, normalize=False)"
     },
     "execution_count": 58,
     "metadata": {},
     "output_type": "execute_result"
    }
   ],
   "source": [
    "model = LinearRegression()\n",
    "model.fit(a, c)"
   ]
  },
  {
   "cell_type": "code",
   "execution_count": 65,
   "metadata": {},
   "outputs": [
    {
     "data": {
      "text/plain": "array([100.,  65.,  82.,  36.,  16.,  80.,  22.,  67.,   8.,  64.,  94.,\n        90.,   5.,  93.,  15.,  76.,  42.,  32.,  60.,  29.,  37.,  52.,\n        53.,  98.,  46.])"
     },
     "execution_count": 65,
     "metadata": {},
     "output_type": "execute_result"
    }
   ],
   "source": [
    "model.predict(b)"
   ]
  },
  {
   "cell_type": "code",
   "execution_count": 66,
   "metadata": {},
   "outputs": [
    {
     "data": {
      "text/plain": "1.0"
     },
     "execution_count": 66,
     "metadata": {},
     "output_type": "execute_result"
    }
   ],
   "source": [
    "model.score(b,d)"
   ]
  },
  {
   "cell_type": "markdown",
   "execution_count": null,
   "metadata": {},
   "outputs": [],
   "source": []
  }
 ]
}